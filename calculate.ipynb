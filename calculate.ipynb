{
 "cells": [
  {
   "cell_type": "code",
   "execution_count": 1,
   "metadata": {},
   "outputs": [],
   "source": [
    "from gensim.models import KeyedVectors"
   ]
  },
  {
   "cell_type": "code",
   "execution_count": 12,
   "metadata": {},
   "outputs": [
    {
     "name": "stdout",
     "output_type": "stream",
     "text": [
      "('きれい', 0.9064168930053711)\n",
      "('真っ白', 0.8042622804641724)\n",
      "('真っ赤', 0.7882563471794128)\n",
      "('真っ黒', 0.7785795331001282)\n",
      "('奇麗', 0.7614251971244812)\n",
      "('なめらか', 0.7285454273223877)\n",
      "('涼しげ', 0.7222217917442322)\n",
      "('ふくよか', 0.7201365828514099)\n",
      "('柔らか', 0.717362105846405)\n",
      "('不機嫌', 0.7173036336898804)\n"
     ]
    }
   ],
   "source": [
    "wv = KeyedVectors.load_word2vec_format('./wiki.vec.pt', binary=True)\n",
    "results = wv.most_similar(positive=['綺麗'])\n",
    "for result in results:\n",
    "    print(result)"
   ]
  }
 ],
 "metadata": {
  "interpreter": {
   "hash": "361257ea2c9d52de72f784e26f28601494010c90c7b433326e47fb02182335ab"
  },
  "kernelspec": {
   "display_name": "Python 3.6.13 ('Corpus')",
   "language": "python",
   "name": "python3"
  },
  "language_info": {
   "codemirror_mode": {
    "name": "ipython",
    "version": 3
   },
   "file_extension": ".py",
   "mimetype": "text/x-python",
   "name": "python",
   "nbconvert_exporter": "python",
   "pygments_lexer": "ipython3",
   "version": "3.6.13"
  },
  "orig_nbformat": 4
 },
 "nbformat": 4,
 "nbformat_minor": 2
}
